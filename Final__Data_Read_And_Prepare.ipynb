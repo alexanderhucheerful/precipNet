{
 "cells": [
  {
   "cell_type": "markdown",
   "metadata": {},
   "source": [
    "## Imports and utility functions\n"
   ]
  },
  {
   "cell_type": "code",
   "execution_count": null,
   "metadata": {
    "ExecuteTime": {
     "end_time": "2020-11-19T14:47:30.258731Z",
     "start_time": "2020-11-19T14:47:28.520691Z"
    }
   },
   "outputs": [],
   "source": [
    "import numpy as np\n",
    "import os\n",
    "import pandas as pd\n",
    "import seaborn as sns\n",
    "from pandas.plotting import register_matplotlib_converters\n",
    "register_matplotlib_converters()\n",
    "import datetime\n",
    "from os.path import isfile, join\n",
    "from sys import getsizeof\n",
    "import glob\n",
    "\n",
    "from random import *\n",
    "\n",
    "\n"
   ]
  },
  {
   "cell_type": "markdown",
   "metadata": {},
   "source": [
    "## Define constants"
   ]
  },
  {
   "cell_type": "code",
   "execution_count": null,
   "metadata": {
    "ExecuteTime": {
     "end_time": "2020-11-18T15:19:39.953532Z",
     "start_time": "2020-11-18T15:19:39.950930Z"
    }
   },
   "outputs": [],
   "source": [
    "# NOTE: this needs to be changed to the local directory to which the data have been downloaded\n",
    "DATA_DIR = '/Users/ryanmcgranaghan/Documents/DMSPdata/data/'\n"
   ]
  },
  {
   "cell_type": "code",
   "execution_count": null,
   "metadata": {
    "ExecuteTime": {
     "end_time": "2020-11-18T15:19:39.959154Z",
     "start_time": "2020-11-18T15:19:39.955280Z"
    }
   },
   "outputs": [],
   "source": [
    "# Define the threshold above which to remove energy flux values\n",
    "eflux_threshold_quantile = 99.995\n",
    "eflux_threshold = .99995\n",
    "\n",
    "# Define the conversion factor from eV to erg\n",
    "erg_eV_factor = (1.60218e-12)"
   ]
  },
  {
   "cell_type": "markdown",
   "metadata": {
    "ExecuteTime": {
     "end_time": "2019-09-10T19:40:40.324776Z",
     "start_time": "2019-09-10T19:40:40.321957Z"
    }
   },
   "source": [
    "## Prepare data for AI/ML exploration\n"
   ]
  },
  {
   "cell_type": "code",
   "execution_count": null,
   "metadata": {
    "ExecuteTime": {
     "end_time": "2020-11-18T15:20:43.889995Z",
     "start_time": "2020-11-18T15:19:43.340583Z"
    }
   },
   "outputs": [],
   "source": [
    "file_load = 'AI_ready_DMSP_Particle_Precipitation.csv'\n",
    "df_cumulative = pd.read_csv(os.path.join(DATA_DIR,file_load))\n",
    "df_cumulative = df_cumulative.set_index('Datetimes')\n",
    "df_cumulative.index = pd.to_datetime(df_cumulative.index)\n",
    "\n"
   ]
  },
  {
   "cell_type": "code",
   "execution_count": null,
   "metadata": {
    "ExecuteTime": {
     "end_time": "2020-11-18T15:20:43.915637Z",
     "start_time": "2020-11-18T15:20:43.895402Z"
    }
   },
   "outputs": [],
   "source": [
    "# list the columns \n",
    "df_cumulative.columns.to_list()"
   ]
  },
  {
   "cell_type": "code",
   "execution_count": null,
   "metadata": {
    "ExecuteTime": {
     "end_time": "2020-11-18T15:20:49.518709Z",
     "start_time": "2020-11-18T15:20:46.106150Z"
    }
   },
   "outputs": [],
   "source": [
    "# Choose columns to drop\n",
    "cols_to_drop = [c for c in df_cumulative.columns if ('1min' in c) | ('3min' in c) | ('4min' in c) | ('_5min'in c) | ('15min' in c)| ('5hr' in c) | ('F107_' in c) | ('vx' in c) | ('AE' in c) | ('newell' in c) | ('borovsky' in c) | ('STD' in c) | ('AVG' in c) | ('SC_AACGM_LTIME'==c)]\n",
    "df_cumulative = df_cumulative.drop(columns=cols_to_drop)\n"
   ]
  },
  {
   "cell_type": "code",
   "execution_count": null,
   "metadata": {
    "ExecuteTime": {
     "end_time": "2020-11-18T15:20:49.526853Z",
     "start_time": "2020-11-18T15:20:49.520217Z"
    },
    "scrolled": true
   },
   "outputs": [],
   "source": [
    "# List the new set of columns\n",
    "df_cumulative.columns.to_list()"
   ]
  },
  {
   "cell_type": "code",
   "execution_count": null,
   "metadata": {
    "ExecuteTime": {
     "end_time": "2020-11-18T15:20:49.538882Z",
     "start_time": "2020-11-18T15:20:49.530743Z"
    }
   },
   "outputs": [],
   "source": [
    "print('number of input features total = {}'.format(df_cumulative.shape[1]))"
   ]
  },
  {
   "cell_type": "code",
   "execution_count": null,
   "metadata": {
    "ExecuteTime": {
     "end_time": "2020-11-18T15:20:50.769932Z",
     "start_time": "2020-11-18T15:20:49.543196Z"
    },
    "scrolled": true
   },
   "outputs": [],
   "source": [
    "# Remove outliers\n",
    "\n",
    "print(df_cumulative.shape)\n",
    "threshold_drop_val = np.percentile(df_cumulative['ELE_TOTAL_ENERGY_FLUX'],eflux_threshold_quantile)\n",
    "print('... dropping rows where total electron energy flux is greater than {:.4E} [eV/cm2/s/ster]'.format(threshold_drop_val))\n",
    "print('--------> number dropped = {}'.format(len( np.argwhere(df_cumulative['ELE_TOTAL_ENERGY_FLUX'].values > threshold_drop_val) )))\n",
    "df_cumulative_LTIMEs = df_cumulative_LTIMEs[ (df_cumulative['ELE_TOTAL_ENERGY_FLUX'].values < threshold_drop_val) ]\n",
    "df_cumulative_STDs = df_cumulative_STDs[ (df_cumulative['ELE_TOTAL_ENERGY_FLUX'].values < threshold_drop_val) ]\n",
    "df_cumulative = df_cumulative[ (df_cumulative['ELE_TOTAL_ENERGY_FLUX'].values < threshold_drop_val) ]\n",
    "print(df_cumulative.shape)\n",
    "\n",
    "\n",
    "\n"
   ]
  },
  {
   "cell_type": "code",
   "execution_count": null,
   "metadata": {
    "ExecuteTime": {
     "end_time": "2020-11-18T15:20:59.850307Z",
     "start_time": "2020-11-18T15:20:50.786469Z"
    }
   },
   "outputs": [],
   "source": [
    "# Separate training and testing data\n",
    "mask_val = [(df_cumulative.index.year == 2010) & (df_cumulative['ID_SC'].values==16)]\n",
    "df_val = df_cumulative[mask_val[0]].copy(deep=True)\n",
    "df_train = df_cumulative.copy(deep=True).drop( df_cumulative.index[mask_val[0]])\n",
    "print('validation data shape = {}'.format(df_val.shape))\n",
    "print('train data shape = {}'.format(df_train.shape))\n",
    "print('NOTE: we have called the withheld data *validation* data here')\n",
    "\n",
    "# Construct X and y\n",
    "feature_cols = [c for c in df_cumulative.columns if not 'ELE' in c]\n",
    "\n",
    "\n",
    "X_val = df_val[feature_cols].copy(deep=True)\n",
    "y_val = df_val['ELE_TOTAL_ENERGY_FLUX'].copy(deep=True)\n",
    "X_train = df_train[feature_cols].copy(deep=True)\n",
    "y_train = df_train['ELE_TOTAL_ENERGY_FLUX'].copy(deep=True)\n",
    "scaler_X = preprocessing.RobustScaler()\n",
    "scaler_X = scaler_X.fit(X_train.values)\n",
    "X_val_scaled = scaler_X.transform(X_val.values)\n",
    "X_train_scaled = scaler_X.transform(X_train.values)"
   ]
  },
  {
   "cell_type": "code",
   "execution_count": null,
   "metadata": {
    "ExecuteTime": {
     "end_time": "2020-11-18T15:20:59.939085Z",
     "start_time": "2020-11-18T15:20:59.864381Z"
    }
   },
   "outputs": [],
   "source": [
    "# The units of the energy flux are eV/cm2/s/ster\n",
    "#   --> To remove the 'steradian' multiply by PI (see: https://agupubs.onlinelibrary.wiley.com/doi/epdf/10.1002/2016JA023339)\n",
    "y_train = y_train * np.pi\n",
    "y_val = y_val * np.pi\n",
    "print('NOTE: removing the steradian from the DMSP data BEFORE training')\n",
    "\n",
    "# Create targets in erg/cm2/s units to explore target in different units\n",
    "y_train_erg = y_train.copy(deep=True) * (1.60218e-12)\n",
    "y_val_erg = y_val.copy(deep=True) * (1.60218e-12)\n",
    "\n",
    "# Create targets in log10(eV/cm2/s) units to explore target in different units\n",
    "y_train[y_train == 0] = 0.00001\n",
    "y_val[y_val == 0] = 0.00001\n",
    "y_train_log = np.log10(y_train.copy(deep=True))\n",
    "y_val_log = np.log10(y_val.copy(deep=True))"
   ]
  },
  {
   "cell_type": "markdown",
   "metadata": {
    "ExecuteTime": {
     "end_time": "2019-11-18T16:25:30.054332Z",
     "start_time": "2019-11-18T16:25:30.050816Z"
    }
   },
   "source": [
    "## Apply AI/ML on the data\n",
    "\n",
    "This is the section for the user to develop..."
   ]
  },
  {
   "cell_type": "code",
   "execution_count": null,
   "metadata": {
    "ExecuteTime": {
     "end_time": "2020-11-19T14:56:35.656014Z",
     "start_time": "2020-11-19T14:56:35.653913Z"
    }
   },
   "outputs": [],
   "source": []
  },
  {
   "cell_type": "code",
   "execution_count": null,
   "metadata": {},
   "outputs": [],
   "source": []
  }
 ],
 "metadata": {
  "kernelspec": {
   "display_name": "Python 3",
   "language": "python",
   "name": "python3"
  },
  "language_info": {
   "codemirror_mode": {
    "name": "ipython",
    "version": 3
   },
   "file_extension": ".py",
   "mimetype": "text/x-python",
   "name": "python",
   "nbconvert_exporter": "python",
   "pygments_lexer": "ipython3",
   "version": "3.6.10"
  }
 },
 "nbformat": 4,
 "nbformat_minor": 2
}
